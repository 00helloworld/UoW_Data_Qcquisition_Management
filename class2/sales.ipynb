{
 "cells": [
  {
   "cell_type": "code",
   "execution_count": 1,
   "metadata": {},
   "outputs": [
    {
     "name": "stderr",
     "output_type": "stream",
     "text": [
      "/var/folders/hk/p7fcnhm10z92trzs_9kwqlyr0000gn/T/ipykernel_68679/975677578.py:1: DeprecationWarning: \n",
      "Pyarrow will become a required dependency of pandas in the next major release of pandas (pandas 3.0),\n",
      "(to allow more performant data types, such as the Arrow string type, and better interoperability with other libraries)\n",
      "but was not found to be installed on your system.\n",
      "If this would cause problems for you,\n",
      "please provide us feedback at https://github.com/pandas-dev/pandas/issues/54466\n",
      "        \n",
      "  import pandas as pd\n"
     ]
    }
   ],
   "source": [
    "import pandas as pd\n",
    "\n",
    "pd.set_option('display.max_rows', None)\n",
    "pd.set_option('display.max_columns', None)"
   ]
  },
  {
   "cell_type": "code",
   "execution_count": 3,
   "metadata": {},
   "outputs": [
    {
     "data": {
      "text/html": [
       "<div>\n",
       "<style scoped>\n",
       "    .dataframe tbody tr th:only-of-type {\n",
       "        vertical-align: middle;\n",
       "    }\n",
       "\n",
       "    .dataframe tbody tr th {\n",
       "        vertical-align: top;\n",
       "    }\n",
       "\n",
       "    .dataframe thead th {\n",
       "        text-align: right;\n",
       "    }\n",
       "</style>\n",
       "<table border=\"1\" class=\"dataframe\">\n",
       "  <thead>\n",
       "    <tr style=\"text-align: right;\">\n",
       "      <th></th>\n",
       "      <th>order_id</th>\n",
       "      <th>order_date</th>\n",
       "      <th>product_id</th>\n",
       "      <th>product_name</th>\n",
       "      <th>quantity_sold</th>\n",
       "      <th>unit_price</th>\n",
       "      <th>total_sales</th>\n",
       "    </tr>\n",
       "  </thead>\n",
       "  <tbody>\n",
       "    <tr>\n",
       "      <th>0</th>\n",
       "      <td>1</td>\n",
       "      <td>2023-03-04</td>\n",
       "      <td>103</td>\n",
       "      <td>Jeans</td>\n",
       "      <td>1</td>\n",
       "      <td>37.39</td>\n",
       "      <td>37.39</td>\n",
       "    </tr>\n",
       "    <tr>\n",
       "      <th>1</th>\n",
       "      <td>2</td>\n",
       "      <td>2023-07-30</td>\n",
       "      <td>105</td>\n",
       "      <td>Sneakers</td>\n",
       "      <td>8</td>\n",
       "      <td>25.48</td>\n",
       "      <td>203.84</td>\n",
       "    </tr>\n",
       "    <tr>\n",
       "      <th>2</th>\n",
       "      <td>3</td>\n",
       "      <td>2023-07-16</td>\n",
       "      <td>104</td>\n",
       "      <td>Jeans</td>\n",
       "      <td>15</td>\n",
       "      <td>63.80</td>\n",
       "      <td>957.00</td>\n",
       "    </tr>\n",
       "    <tr>\n",
       "      <th>3</th>\n",
       "      <td>4</td>\n",
       "      <td>2023-01-08</td>\n",
       "      <td>103</td>\n",
       "      <td>T-shirt</td>\n",
       "      <td>18</td>\n",
       "      <td>48.12</td>\n",
       "      <td>866.16</td>\n",
       "    </tr>\n",
       "    <tr>\n",
       "      <th>4</th>\n",
       "      <td>5</td>\n",
       "      <td>2023-12-17</td>\n",
       "      <td>103</td>\n",
       "      <td>Jacket</td>\n",
       "      <td>3</td>\n",
       "      <td>35.82</td>\n",
       "      <td>107.46</td>\n",
       "    </tr>\n",
       "  </tbody>\n",
       "</table>\n",
       "</div>"
      ],
      "text/plain": [
       "   order_id  order_date  product_id product_name  quantity_sold  unit_price  \\\n",
       "0         1  2023-03-04         103        Jeans              1       37.39   \n",
       "1         2  2023-07-30         105     Sneakers              8       25.48   \n",
       "2         3  2023-07-16         104        Jeans             15       63.80   \n",
       "3         4  2023-01-08         103      T-shirt             18       48.12   \n",
       "4         5  2023-12-17         103       Jacket              3       35.82   \n",
       "\n",
       "   total_sales  \n",
       "0        37.39  \n",
       "1       203.84  \n",
       "2       957.00  \n",
       "3       866.16  \n",
       "4       107.46  "
      ]
     },
     "execution_count": 3,
     "metadata": {},
     "output_type": "execute_result"
    }
   ],
   "source": [
    "data = pd.read_csv('sales_data.csv')\n",
    "data.head()"
   ]
  },
  {
   "cell_type": "code",
   "execution_count": 4,
   "metadata": {},
   "outputs": [],
   "source": [
    "data['order_date'] = pd.to_datetime(data['order_date'])"
   ]
  },
  {
   "cell_type": "code",
   "execution_count": 5,
   "metadata": {},
   "outputs": [],
   "source": [
    "data['total_sales'] = data['quantity_sold'] * data['unit_price']"
   ]
  },
  {
   "cell_type": "code",
   "execution_count": 6,
   "metadata": {},
   "outputs": [
    {
     "data": {
      "text/html": [
       "<div>\n",
       "<style scoped>\n",
       "    .dataframe tbody tr th:only-of-type {\n",
       "        vertical-align: middle;\n",
       "    }\n",
       "\n",
       "    .dataframe tbody tr th {\n",
       "        vertical-align: top;\n",
       "    }\n",
       "\n",
       "    .dataframe thead th {\n",
       "        text-align: right;\n",
       "    }\n",
       "</style>\n",
       "<table border=\"1\" class=\"dataframe\">\n",
       "  <thead>\n",
       "    <tr style=\"text-align: right;\">\n",
       "      <th></th>\n",
       "      <th>order_id</th>\n",
       "      <th>order_date</th>\n",
       "      <th>product_id</th>\n",
       "      <th>product_name</th>\n",
       "      <th>quantity_sold</th>\n",
       "      <th>unit_price</th>\n",
       "      <th>total_sales</th>\n",
       "    </tr>\n",
       "  </thead>\n",
       "  <tbody>\n",
       "    <tr>\n",
       "      <th>0</th>\n",
       "      <td>1</td>\n",
       "      <td>2023-03-04</td>\n",
       "      <td>103</td>\n",
       "      <td>Jeans</td>\n",
       "      <td>1</td>\n",
       "      <td>37.39</td>\n",
       "      <td>37.39</td>\n",
       "    </tr>\n",
       "    <tr>\n",
       "      <th>1</th>\n",
       "      <td>2</td>\n",
       "      <td>2023-07-30</td>\n",
       "      <td>105</td>\n",
       "      <td>Sneakers</td>\n",
       "      <td>8</td>\n",
       "      <td>25.48</td>\n",
       "      <td>203.84</td>\n",
       "    </tr>\n",
       "    <tr>\n",
       "      <th>2</th>\n",
       "      <td>3</td>\n",
       "      <td>2023-07-16</td>\n",
       "      <td>104</td>\n",
       "      <td>Jeans</td>\n",
       "      <td>15</td>\n",
       "      <td>63.80</td>\n",
       "      <td>957.00</td>\n",
       "    </tr>\n",
       "    <tr>\n",
       "      <th>3</th>\n",
       "      <td>4</td>\n",
       "      <td>2023-01-08</td>\n",
       "      <td>103</td>\n",
       "      <td>T-shirt</td>\n",
       "      <td>18</td>\n",
       "      <td>48.12</td>\n",
       "      <td>866.16</td>\n",
       "    </tr>\n",
       "    <tr>\n",
       "      <th>4</th>\n",
       "      <td>5</td>\n",
       "      <td>2023-12-17</td>\n",
       "      <td>103</td>\n",
       "      <td>Jacket</td>\n",
       "      <td>3</td>\n",
       "      <td>35.82</td>\n",
       "      <td>107.46</td>\n",
       "    </tr>\n",
       "  </tbody>\n",
       "</table>\n",
       "</div>"
      ],
      "text/plain": [
       "   order_id order_date  product_id product_name  quantity_sold  unit_price  \\\n",
       "0         1 2023-03-04         103        Jeans              1       37.39   \n",
       "1         2 2023-07-30         105     Sneakers              8       25.48   \n",
       "2         3 2023-07-16         104        Jeans             15       63.80   \n",
       "3         4 2023-01-08         103      T-shirt             18       48.12   \n",
       "4         5 2023-12-17         103       Jacket              3       35.82   \n",
       "\n",
       "   total_sales  \n",
       "0        37.39  \n",
       "1       203.84  \n",
       "2       957.00  \n",
       "3       866.16  \n",
       "4       107.46  "
      ]
     },
     "execution_count": 6,
     "metadata": {},
     "output_type": "execute_result"
    }
   ],
   "source": [
    "data.head()"
   ]
  },
  {
   "cell_type": "code",
   "execution_count": null,
   "metadata": {},
   "outputs": [],
   "source": []
  },
  {
   "cell_type": "code",
   "execution_count": null,
   "metadata": {},
   "outputs": [],
   "source": []
  },
  {
   "cell_type": "code",
   "execution_count": 20,
   "metadata": {},
   "outputs": [
    {
     "data": {
      "text/plain": [
       "<Response [200]>"
      ]
     },
     "execution_count": 20,
     "metadata": {},
     "output_type": "execute_result"
    }
   ],
   "source": [
    "import requests\n",
    "lat = 80\n",
    "lon = 80\n",
    "city = 'London'\n",
    "key = '96a0a3f05a4424c06a6b3aa141edc5af'\n",
    "# url = f'https://api.openweathermap.org/data/2.5/weather?lat={lat}&lon={lon}&appid={key}'\n",
    "url = f'https://api.openweathermap.org/data/2.5/weather?q={city}&appid={key}'\n",
    "\n",
    "requests.get(url)"
   ]
  },
  {
   "cell_type": "code",
   "execution_count": 23,
   "metadata": {},
   "outputs": [
    {
     "data": {
      "text/plain": [
       "{'coord': {'lon': -0.1257, 'lat': 51.5085},\n",
       " 'weather': [{'id': 500,\n",
       "   'main': 'Rain',\n",
       "   'description': 'light rain',\n",
       "   'icon': '10n'}],\n",
       " 'base': 'stations',\n",
       " 'main': {'temp': 285.21,\n",
       "  'feels_like': 284.85,\n",
       "  'temp_min': 284.42,\n",
       "  'temp_max': 286.03,\n",
       "  'pressure': 1013,\n",
       "  'humidity': 91},\n",
       " 'visibility': 6000,\n",
       " 'wind': {'speed': 1.54, 'deg': 30},\n",
       " 'rain': {'1h': 0.51},\n",
       " 'clouds': {'all': 100},\n",
       " 'dt': 1715038142,\n",
       " 'sys': {'type': 2,\n",
       "  'id': 268730,\n",
       "  'country': 'GB',\n",
       "  'sunrise': 1715055654,\n",
       "  'sunset': 1715110389},\n",
       " 'timezone': 3600,\n",
       " 'id': 2643743,\n",
       " 'name': 'London',\n",
       " 'cod': 200}"
      ]
     },
     "execution_count": 23,
     "metadata": {},
     "output_type": "execute_result"
    }
   ],
   "source": [
    "data = requests.get(url).json()\n",
    "data"
   ]
  },
  {
   "cell_type": "code",
   "execution_count": 24,
   "metadata": {},
   "outputs": [],
   "source": [
    "data_dict = {\n",
    "    'City': data['name'],\n",
    "    'Country': data['sys']['country'],\n",
    "    'Temperature': data['main']['temp']-273.15,\n",
    "    'Weather': data['weather'][0]['main'],\n",
    "    'Description': data['weather'][0]['description']\n",
    "}\n",
    "\n",
    "data_df = pd.DataFrame([data_dict])\n",
    "\n",
    "data_df.to_csv('weather.csv', index=False)"
   ]
  },
  {
   "cell_type": "code",
   "execution_count": null,
   "metadata": {},
   "outputs": [],
   "source": []
  }
 ],
 "metadata": {
  "kernelspec": {
   "display_name": "pace_ai_0",
   "language": "python",
   "name": "python3"
  },
  "language_info": {
   "codemirror_mode": {
    "name": "ipython",
    "version": 3
   },
   "file_extension": ".py",
   "mimetype": "text/x-python",
   "name": "python",
   "nbconvert_exporter": "python",
   "pygments_lexer": "ipython3",
   "version": "3.9.18"
  }
 },
 "nbformat": 4,
 "nbformat_minor": 2
}
